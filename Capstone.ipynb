{
 "cells": [
  {
   "cell_type": "markdown",
   "metadata": {},
   "source": [
    "This is my notebook for the IBM Data Science Capstone!"
   ]
  },
  {
   "cell_type": "code",
   "execution_count": 1,
   "metadata": {},
   "outputs": [
    {
     "name": "stdout",
     "output_type": "stream",
     "text": [
      "Hello Capstone Project Course!\n"
     ]
    }
   ],
   "source": [
    "import pandas as pd\n",
    "import numpy as np\n",
    "print('Hello Capstone Project Course!')"
   ]
  },
  {
   "cell_type": "markdown",
   "metadata": {},
   "source": [
    "# Using Geo-Location Data To Teach Orienteering in the City"
   ]
  },
  {
   "cell_type": "markdown",
   "metadata": {},
   "source": [
    "## INTRODUCTION/BUSINESS PROBLEM"
   ]
  },
  {
   "cell_type": "markdown",
   "metadata": {},
   "source": [
    "    Orienteering, or finding one's way with map and compass, is still a valuable skill for young people to learn. Oftentimes while hiking, it's still important to carry your own compass and physical map, as our digital devices have a short battery life if you happen to get lost. I would like to create solution sets for a class which is teaching orienteering by using Foursquare data. Maybe the boyscouts or girlscouts would find these maps to be useful for comparing their students' paper solutions. As Foursquare is a service providing venue information mostly in cities, this map will be for young people learning orienteering in the city.\n",
    "    \n",
    "    I want to use foursquare to generate nearby venues given a few paramaters, like location, radius, and venue type, and then create a dataframe of venues ordered by their distance from an origin.\n",
    "    \n",
    "    A user would start by specifying their location and desired venues. The program would then make a call to Foursquare to find nearby venues and then calculate the distance and direction these venues are from the origin point.\n",
    "    \n",
    "    1) User input: location, desired venue type\n",
    "    2) Call to foursquare\n",
    "    3) Create dataframe containing distance and direction data calculated using geopy\n",
    "    4) Create a map with folium with arrows specifying direction, and lines specifying distance from the origin point"
   ]
  },
  {
   "cell_type": "markdown",
   "metadata": {},
   "source": [
    "## DATA REQUIREMENTS"
   ]
  },
  {
   "cell_type": "markdown",
   "metadata": {},
   "source": [
    "1) User inputs: location, desired venue type\n",
    "\n",
    "The user will start by passing in the name of their location to Nominatim, which will generate the location's latitutde/longitude:\n",
    "\n",
    "```python\n",
    "address = 'Toronto, Canada'\n",
    "geolocator = Nominatim(user_agent=\"toronto_explorer\")\n",
    "location = geolocator.geocode(address)\n",
    "latitude = location.latitude\n",
    "longitude = location.longitude\n",
    "```\n",
    "\n",
    "This information can then be used to generate a map of the area using folium:\n",
    "\n",
    "```python\n",
    "map = folium.Map(location=[latitude, longitude], zoom_start=11)\n",
    "```\n",
    "\n",
    "And then passed to Foursquare's API to get a json file:\n",
    "\n",
    "```python\n",
    "LIMIT = 100\n",
    "radius = 500\n",
    "url = 'https://api.foursquare.com/v2/venues/explore?&client_id={}&client_secret={}&v={}&ll={},{}&radius={}&limit={}'.format(\n",
    "    CLIENT_ID, \n",
    "    CLIENT_SECRET, \n",
    "    VERSION, \n",
    "    neighborhood_latitude, \n",
    "    neighborhood_longitude, \n",
    "    radius, \n",
    "    LIMIT)\n",
    "\n",
    "results = requests.get(url).json()\n",
    "```\n",
    "\n",
    "2) Foursquare location data\n",
    "\n",
    "This data needs to be cleaned and formatted into a pandas dataframe based on the specified attributes given by the user. Calculations are then done to find the distance and direction from the origin point. Once this is done the information is sorted by distance, so that we can find our target venues from nearest to farthest."
   ]
  },
  {
   "cell_type": "markdown",
   "metadata": {},
   "source": [
    "## METHODOLOGY"
   ]
  },
  {
   "cell_type": "markdown",
   "metadata": {},
   "source": [
    "I wanted to find a venue with many location spread throughout a city.\n",
    "\n",
    "I used Nominatim to explore different cities and eventually found one that had enough spots to make the analysis interesting and relevant to young students. I did this by making various calls to Foursquare and changing the location, # of returns, and radius. I reduced the data from Foursquare and sorted it by name and also by distance. This enabled me to pick an interesting venue to look at, such as parks and hotels. A teacher of orienteering might do the same to find venues that are interesting to find for their students.\n",
    "\n",
    "Once I found interesting venues with enough spread in the city of my choice, I used functions from geographic libs to calculate geodesic distance and cardinal direction from the origin to each point in my dataframe of venues. These values enabled me to then plot a new map containing each venue as well as a direction showing direction and an arrow showing distance. This map is intended as a solution for students who have \n",
    "\n",
    "In a classroom, students would be given a map of the same location but without points showing the venues, as well as a list of the locations' distance and direction from the origin. Students would then be required to use their compass and rulers to plot points and arrows to show distance and direction. The teacher would then grade each student by how well their solutions match the map generated with the arrows and lines. "
   ]
  },
  {
   "cell_type": "markdown",
   "metadata": {},
   "source": [
    "## RESULTS"
   ]
  },
  {
   "cell_type": "markdown",
   "metadata": {},
   "source": [
    "Both question worksheets and solutions were created for a classroom teaching orienteering."
   ]
  },
  {
   "cell_type": "markdown",
   "metadata": {},
   "source": [
    "## DISCUSSION"
   ]
  },
  {
   "cell_type": "markdown",
   "metadata": {},
   "source": [
    "I initially envisioned this project as being one enabling me to better discover a city, but after hours of work and frustration I was unable to generate the images that I wanted and I changed to the current idea of using the dataset for practicing orienteering in the city. One of the difficulties I came upon in this project was how to convert html files to png files. I wanted to produce small png files which showed a picture of the nearby streets and shops around each venue but as a result of the technical problems I was unable to do this. \n",
    "\n",
    "Instead, I thought about those desperate city kids who don't have much chance to get out and practice their compass skills. Now they can practice by finding common city venues like parks, cafes, and bars, and then know that they got their wayfinding right by looking at a generated solution. This is another fun way to find out what sort of places are around us in the city and give us a good bearing for their direction as well as spread. \n",
    "\n",
    "By looking at different venues I was interested to see how parks are spread out almost evenly whereas bars are oftentimes crowded together. This probably reflects some city design and zoning laws and could be interesting to explore in the future."
   ]
  },
  {
   "cell_type": "markdown",
   "metadata": {},
   "source": [
    "## CONCLUSION"
   ]
  },
  {
   "cell_type": "markdown",
   "metadata": {},
   "source": [
    "Classroom resources for outdoors focused organizations were successfully produced. A teacher of orienteering will be able to generate her own data and maps given the venue preferences of their audience."
   ]
  }
 ],
 "metadata": {
  "kernelspec": {
   "display_name": "Python",
   "language": "python",
   "name": "conda-env-python-py"
  },
  "language_info": {
   "codemirror_mode": {
    "name": "ipython",
    "version": 3
   },
   "file_extension": ".py",
   "mimetype": "text/x-python",
   "name": "python",
   "nbconvert_exporter": "python",
   "pygments_lexer": "ipython3",
   "version": "3.6.10"
  }
 },
 "nbformat": 4,
 "nbformat_minor": 4
}
