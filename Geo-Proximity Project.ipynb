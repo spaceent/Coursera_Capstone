{
 "cells": [
  {
   "cell_type": "code",
   "execution_count": 3,
   "metadata": {
    "collapsed": true,
    "jupyter": {
     "outputs_hidden": true
    }
   },
   "outputs": [
    {
     "name": "stdout",
     "output_type": "stream",
     "text": [
      "Requirement already satisfied: bs4 in /home/jupyterlab/conda/envs/python/lib/python3.6/site-packages (0.0.1)\n",
      "Requirement already satisfied: beautifulsoup4 in /home/jupyterlab/conda/envs/python/lib/python3.6/site-packages (from bs4) (4.9.0)\n",
      "Requirement already satisfied: soupsieve>1.2 in /home/jupyterlab/conda/envs/python/lib/python3.6/site-packages (from beautifulsoup4->bs4) (2.0)\n",
      "Requirement already satisfied: lxml in /home/jupyterlab/conda/envs/python/lib/python3.6/site-packages (4.5.0)\n",
      "Requirement already satisfied: geopy in /home/jupyterlab/conda/envs/python/lib/python3.6/site-packages (1.21.0)\n",
      "Requirement already satisfied: geographiclib<2,>=1.49 in /home/jupyterlab/conda/envs/python/lib/python3.6/site-packages (from geopy) (1.50)\n",
      "Requirement already satisfied: geocoder in /home/jupyterlab/conda/envs/python/lib/python3.6/site-packages (1.38.1)\n",
      "Requirement already satisfied: click in /home/jupyterlab/conda/envs/python/lib/python3.6/site-packages (from geocoder) (7.1.1)\n",
      "Requirement already satisfied: requests in /home/jupyterlab/conda/envs/python/lib/python3.6/site-packages (from geocoder) (2.23.0)\n",
      "Requirement already satisfied: six in /home/jupyterlab/conda/envs/python/lib/python3.6/site-packages (from geocoder) (1.14.0)\n",
      "Requirement already satisfied: ratelim in /home/jupyterlab/conda/envs/python/lib/python3.6/site-packages (from geocoder) (0.1.6)\n",
      "Requirement already satisfied: future in /home/jupyterlab/conda/envs/python/lib/python3.6/site-packages (from geocoder) (0.18.2)\n",
      "Requirement already satisfied: certifi>=2017.4.17 in /home/jupyterlab/conda/envs/python/lib/python3.6/site-packages (from requests->geocoder) (2020.4.5.1)\n",
      "Requirement already satisfied: chardet<4,>=3.0.2 in /home/jupyterlab/conda/envs/python/lib/python3.6/site-packages (from requests->geocoder) (3.0.4)\n",
      "Requirement already satisfied: urllib3!=1.25.0,!=1.25.1,<1.26,>=1.21.1 in /home/jupyterlab/conda/envs/python/lib/python3.6/site-packages (from requests->geocoder) (1.25.9)\n",
      "Requirement already satisfied: idna<3,>=2.5 in /home/jupyterlab/conda/envs/python/lib/python3.6/site-packages (from requests->geocoder) (2.9)\n",
      "Requirement already satisfied: decorator in /home/jupyterlab/conda/envs/python/lib/python3.6/site-packages (from ratelim->geocoder) (4.4.2)\n",
      "Collecting package metadata (current_repodata.json): done\n",
      "Solving environment: failed with initial frozen solve. Retrying with flexible solve.\n",
      "Collecting package metadata (repodata.json): - \n",
      "## Package Plan ##\n",
      "\n",
      "  environment location: /home/jupyterlab/conda/envs/python\n",
      "\n",
      "  added / updated specs:\n",
      "    - folium=0.5.0\n",
      "\n",
      "\n",
      "The following packages will be downloaded:\n",
      "\n",
      "    package                    |            build\n",
      "    ---------------------------|-----------------\n",
      "    altair-4.1.0               |             py_1         614 KB  conda-forge\n",
      "    branca-0.4.0               |             py_0          26 KB  conda-forge\n",
      "    chardet-3.0.4              |py36h9f0ad1d_1006         188 KB  conda-forge\n",
      "    folium-0.5.0               |             py_0          45 KB  conda-forge\n",
      "    pandas-1.0.3               |   py36h830a2c2_1        11.1 MB  conda-forge\n",
      "    toolz-0.10.0               |             py_0          46 KB  conda-forge\n",
      "    vincent-0.4.4              |             py_1          28 KB  conda-forge\n",
      "    ------------------------------------------------------------\n",
      "                                           Total:        12.0 MB\n",
      "\n",
      "The following NEW packages will be INSTALLED:\n",
      "\n",
      "  altair             conda-forge/noarch::altair-4.1.0-py_1\n",
      "  attrs              conda-forge/noarch::attrs-19.3.0-py_0\n",
      "  branca             conda-forge/noarch::branca-0.4.0-py_0\n",
      "  chardet            conda-forge/linux-64::chardet-3.0.4-py36h9f0ad1d_1006\n",
      "  entrypoints        conda-forge/linux-64::entrypoints-0.3-py36h9f0ad1d_1001\n",
      "  folium             conda-forge/noarch::folium-0.5.0-py_0\n",
      "  importlib-metadata conda-forge/linux-64::importlib-metadata-1.6.0-py36h9f0ad1d_0\n",
      "  importlib_metadata conda-forge/noarch::importlib_metadata-1.6.0-0\n",
      "  jinja2             conda-forge/noarch::jinja2-2.11.2-pyh9f0ad1d_0\n",
      "  jsonschema         conda-forge/linux-64::jsonschema-3.2.0-py36h9f0ad1d_1\n",
      "  markupsafe         conda-forge/linux-64::markupsafe-1.1.1-py36h8c4c3a4_1\n",
      "  pandas             conda-forge/linux-64::pandas-1.0.3-py36h830a2c2_1\n",
      "  pyrsistent         conda-forge/linux-64::pyrsistent-0.16.0-py36h8c4c3a4_0\n",
      "  pytz               conda-forge/noarch::pytz-2019.3-py_0\n",
      "  requests           conda-forge/noarch::requests-2.23.0-pyh8c360ce_2\n",
      "  toolz              conda-forge/noarch::toolz-0.10.0-py_0\n",
      "  vincent            conda-forge/noarch::vincent-0.4.4-py_1\n",
      "  zipp               conda-forge/noarch::zipp-3.1.0-py_0\n",
      "\n",
      "\n",
      "Proceed ([y]/n)? ^C\n",
      "\n",
      "CondaSystemExit: \n",
      "Operation aborted.  Exiting.\n",
      "\n",
      "Requirement already satisfied: selenium in /home/jupyterlab/conda/envs/python/lib/python3.6/site-packages (3.141.0)\n",
      "Requirement already satisfied: urllib3 in /home/jupyterlab/conda/envs/python/lib/python3.6/site-packages (from selenium) (1.25.9)\n",
      "Requirement already satisfied: pdfcrowd in /home/jupyterlab/conda/envs/python/lib/python3.6/site-packages (4.12.0)\n",
      "Requirement already satisfied: bokeh in /home/jupyterlab/conda/envs/python/lib/python3.6/site-packages (2.0.1)\n",
      "Requirement already satisfied: PyYAML>=3.10 in /home/jupyterlab/conda/envs/python/lib/python3.6/site-packages (from bokeh) (5.3.1)\n",
      "Requirement already satisfied: pillow>=4.0 in /home/jupyterlab/conda/envs/python/lib/python3.6/site-packages (from bokeh) (7.1.1)\n",
      "Requirement already satisfied: tornado>=5 in /home/jupyterlab/conda/envs/python/lib/python3.6/site-packages (from bokeh) (6.0.4)\n",
      "Requirement already satisfied: typing-extensions>=3.7.4 in /home/jupyterlab/conda/envs/python/lib/python3.6/site-packages (from bokeh) (3.7.4.2)\n",
      "Requirement already satisfied: numpy>=1.11.3 in /home/jupyterlab/conda/envs/python/lib/python3.6/site-packages (from bokeh) (1.18.1)\n",
      "Requirement already satisfied: Jinja2>=2.7 in /home/jupyterlab/conda/envs/python/lib/python3.6/site-packages (from bokeh) (2.11.2)\n",
      "Requirement already satisfied: python-dateutil>=2.1 in /home/jupyterlab/conda/envs/python/lib/python3.6/site-packages (from bokeh) (2.8.1)\n",
      "Requirement already satisfied: packaging>=16.8 in /home/jupyterlab/conda/envs/python/lib/python3.6/site-packages (from bokeh) (20.3)\n",
      "Requirement already satisfied: MarkupSafe>=0.23 in /home/jupyterlab/conda/envs/python/lib/python3.6/site-packages (from Jinja2>=2.7->bokeh) (1.1.1)\n",
      "Requirement already satisfied: six>=1.5 in /home/jupyterlab/conda/envs/python/lib/python3.6/site-packages (from python-dateutil>=2.1->bokeh) (1.14.0)\n",
      "Requirement already satisfied: pyparsing>=2.0.2 in /home/jupyterlab/conda/envs/python/lib/python3.6/site-packages (from packaging>=16.8->bokeh) (2.4.7)\n",
      "Requirement already satisfied: imgkit in /home/jupyterlab/conda/envs/python/lib/python3.6/site-packages (1.0.2)\n",
      "Collecting package metadata (current_repodata.json): done\n",
      "Solving environment: done\n",
      "\n",
      "# All requested packages already installed.\n",
      "\n",
      "Requirement already satisfied: geographiclib in /home/jupyterlab/conda/envs/python/lib/python3.6/site-packages (1.50)\n"
     ]
    }
   ],
   "source": [
    "!pip install bs4\n",
    "!pip install lxml\n",
    "!pip install geopy\n",
    "!pip install geocoder\n",
    "!conda install -c conda-forge folium=0.5.0\n",
    "!pip install selenium\n",
    "!pip install pdfcrowd\n",
    "!pip install bokeh\n",
    "!pip install imgkit\n",
    "!conda install selenium geckodriver firefox -c conda-forge\n",
    "!pip install geographiclib"
   ]
  },
  {
   "cell_type": "code",
   "execution_count": 4,
   "metadata": {},
   "outputs": [],
   "source": [
    "from bs4 import BeautifulSoup\n",
    "import pandas as pd\n",
    "import requests\n",
    "import geocoder # import geocoder\n",
    "from geopy.geocoders import Nominatim\n",
    "import requests # library to handle requests\n",
    "from pandas.io.json import json_normalize # tranform JSON file into a pandas dataframe\n",
    "# Matplotlib and associated plotting modules\n",
    "import matplotlib.cm as cm\n",
    "import matplotlib.colors as colors\n",
    "\n",
    "# import k-means from clustering stage\n",
    "from sklearn.cluster import KMeans\n",
    "\n",
    "import folium # map rendering library\n",
    "import numpy as np\n",
    "from geopy.distance import distance\n",
    "import os\n",
    "import time\n",
    "from selenium import webdriver\n",
    "import subprocess\n",
    "import bokeh\n",
    "import imgkit\n",
    "import pdfcrowd\n",
    "import sys\n",
    "from geographiclib.geodesic import Geodesic"
   ]
  },
  {
   "cell_type": "markdown",
   "metadata": {},
   "source": [
    "First I will get the user's location data. This would probably be their address."
   ]
  },
  {
   "cell_type": "code",
   "execution_count": 5,
   "metadata": {},
   "outputs": [],
   "source": [
    "address = 'Downtown Vancouver, BC, CAN'\n",
    "geolocator = Nominatim(user_agent=\"toronto_explorer\")\n",
    "location = geolocator.geocode(address)\n",
    "latitude = location.latitude\n",
    "longitude = location.longitude\n",
    "\n",
    "geod = Geodesic.WGS84\n",
    "# print(\"Your location is {} N,{} W\".format(latitude, longitude))"
   ]
  },
  {
   "cell_type": "markdown",
   "metadata": {},
   "source": [
    "Let's create a quick map of our location:"
   ]
  },
  {
   "cell_type": "code",
   "execution_count": 6,
   "metadata": {},
   "outputs": [
    {
     "data": {
      "text/html": [
       "<div style=\"width:100%;\"><div style=\"position:relative;width:100%;height:0;padding-bottom:60%;\"><iframe src=\"about:blank\" style=\"position:absolute;width:100%;height:100%;left:0;top:0;border:none !important;\" data-html=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 onload=\"this.contentDocument.open();this.contentDocument.write(atob(this.getAttribute('data-html')));this.contentDocument.close();\" allowfullscreen webkitallowfullscreen mozallowfullscreen></iframe></div></div>"
      ],
      "text/plain": [
       "<folium.folium.Map at 0x7f48d5fa32e8>"
      ]
     },
     "execution_count": 6,
     "metadata": {},
     "output_type": "execute_result"
    }
   ],
   "source": [
    "map = folium.Map(location=[latitude, longitude], zoom_start=13)    \n",
    "map"
   ]
  },
  {
   "cell_type": "markdown",
   "metadata": {},
   "source": [
    "Now I will use Foursquare to find the nearby venues. Foursquare is going to return a .json file which I will need to process."
   ]
  },
  {
   "cell_type": "code",
   "execution_count": 7,
   "metadata": {},
   "outputs": [],
   "source": [
    "CLIENT_ID = 'SI5QNDDUPAKHLF1BKSB1RFWBFIAIT14VFITE1AO120000KMU' # Foursquare ID\n",
    "CLIENT_SECRET = '11XILRUXTTXFUP1H5MDUKT3TSFXT5FRJ4XAYHL2DQOSM0KPW' # Foursquare Secret\n",
    "VERSION = '20200402' # Foursquare API version\n",
    "LIMIT = 500\n",
    "radius = 10000\n",
    "url = 'https://api.foursquare.com/v2/venues/explore?&client_id={}&client_secret={}&v={}&ll={},{}&radius={}&limit={}'.format(\n",
    "    CLIENT_ID, \n",
    "    CLIENT_SECRET, \n",
    "    VERSION, \n",
    "    latitude, \n",
    "    longitude, \n",
    "    radius, \n",
    "    LIMIT)\n",
    "# url\n",
    "\n",
    "results = requests.get(url).json()\n",
    "# results"
   ]
  },
  {
   "cell_type": "markdown",
   "metadata": {},
   "source": [
    "Now I need to process this json file by extracting the category of each venue"
   ]
  },
  {
   "cell_type": "code",
   "execution_count": 8,
   "metadata": {},
   "outputs": [],
   "source": [
    "# function that extracts the category of the venue\n",
    "def get_category_type(row):\n",
    "    try:\n",
    "        categories_list = row['categories']\n",
    "    except:\n",
    "        categories_list = row['venue.categories']\n",
    "        \n",
    "    if len(categories_list) == 0:\n",
    "        return None\n",
    "    else:\n",
    "        return categories_list[0]['name']"
   ]
  },
  {
   "cell_type": "code",
   "execution_count": 9,
   "metadata": {},
   "outputs": [
    {
     "name": "stderr",
     "output_type": "stream",
     "text": [
      "/home/jupyterlab/conda/envs/python/lib/python3.6/site-packages/ipykernel_launcher.py:3: FutureWarning: pandas.io.json.json_normalize is deprecated, use pandas.json_normalize instead\n",
      "  This is separate from the ipykernel package so we can avoid doing imports until\n"
     ]
    }
   ],
   "source": [
    "venues = results['response']['groups'][0]['items']\n",
    "    \n",
    "nearby_venues = json_normalize(venues) # flatten JSON\n",
    "\n",
    "# filter columns\n",
    "filtered_columns = ['venue.name', 'venue.categories', 'venue.location.lat', 'venue.location.lng']\n",
    "nearby_venues =nearby_venues.loc[:, filtered_columns]\n",
    "\n",
    "# filter the category for each row\n",
    "nearby_venues['venue.categories'] = nearby_venues.apply(get_category_type, axis=1)\n",
    "\n",
    "# clean columns\n",
    "nearby_venues.columns = [col.split(\".\")[-1] for col in nearby_venues.columns]"
   ]
  },
  {
   "cell_type": "markdown",
   "metadata": {},
   "source": [
    "Once my venues are put into a dataframe, I can list the venue types for my user and then let them choose which types of venues they want to learn the locations of"
   ]
  },
  {
   "cell_type": "code",
   "execution_count": 44,
   "metadata": {
    "collapsed": true,
    "jupyter": {
     "outputs_hidden": true
    }
   },
   "outputs": [
    {
     "data": {
      "text/plain": [
       "['Art Gallery',\n",
       " 'Bakery',\n",
       " 'Beach',\n",
       " 'Belgian Restaurant',\n",
       " 'Bookstore',\n",
       " 'Boxing Gym',\n",
       " 'Brewery',\n",
       " 'Café',\n",
       " 'Cheese Shop',\n",
       " 'Clothing Store',\n",
       " 'Coffee Shop',\n",
       " 'Convenience Store',\n",
       " 'Cosmetics Shop',\n",
       " 'Deli / Bodega',\n",
       " 'Dessert Shop',\n",
       " 'Dog Run',\n",
       " 'Donut Shop',\n",
       " 'French Restaurant',\n",
       " 'Fried Chicken Joint',\n",
       " 'Furniture / Home Store',\n",
       " 'Gourmet Shop',\n",
       " 'Grocery Store',\n",
       " 'Gym',\n",
       " 'Gym / Fitness Center',\n",
       " 'Hockey Arena',\n",
       " 'Hotel',\n",
       " 'Ice Cream Shop',\n",
       " 'Italian Restaurant',\n",
       " 'Japanese Restaurant',\n",
       " 'Lebanese Restaurant',\n",
       " 'Lighthouse',\n",
       " 'Lingerie Store',\n",
       " 'Liquor Store',\n",
       " 'Lounge',\n",
       " 'Market',\n",
       " 'Middle Eastern Restaurant',\n",
       " 'Movie Theater',\n",
       " 'New American Restaurant',\n",
       " 'Outdoor Sculpture',\n",
       " 'Park',\n",
       " 'Pizza Place',\n",
       " 'Plaza',\n",
       " 'Poke Place',\n",
       " 'Ramen Restaurant',\n",
       " 'Restaurant',\n",
       " 'Sandwich Place',\n",
       " 'Science Museum',\n",
       " 'Sculpture Garden',\n",
       " 'Seafood Restaurant',\n",
       " 'Soccer Stadium',\n",
       " 'Stadium',\n",
       " 'Steakhouse',\n",
       " 'Sushi Restaurant',\n",
       " 'Tech Startup',\n",
       " 'Trail',\n",
       " 'Vietnamese Restaurant',\n",
       " 'Waterfront']"
      ]
     },
     "execution_count": 44,
     "metadata": {},
     "output_type": "execute_result"
    }
   ],
   "source": [
    "# Get unique venue categories and sort. If user wants to choose their venues alphabetically\n",
    "venue_selection = sorted(nearby_venues['categories'].unique())\n",
    "venue_selection"
   ]
  },
  {
   "cell_type": "code",
   "execution_count": 42,
   "metadata": {},
   "outputs": [
    {
     "data": {
      "text/plain": [
       "Hotel             8\n",
       "Park              7\n",
       "Trail             5\n",
       "Sandwich Place    4\n",
       "Coffee Shop       4\n",
       "Name: categories, dtype: int64"
      ]
     },
     "execution_count": 42,
     "metadata": {},
     "output_type": "execute_result"
    }
   ],
   "source": [
    "# Choosing venues by their abundance.\n",
    "nearby_venues['categories'].value_counts().head()"
   ]
  },
  {
   "cell_type": "code",
   "execution_count": 41,
   "metadata": {},
   "outputs": [
    {
     "data": {
      "text/html": [
       "<div>\n",
       "<style scoped>\n",
       "    .dataframe tbody tr th:only-of-type {\n",
       "        vertical-align: middle;\n",
       "    }\n",
       "\n",
       "    .dataframe tbody tr th {\n",
       "        vertical-align: top;\n",
       "    }\n",
       "\n",
       "    .dataframe thead th {\n",
       "        text-align: right;\n",
       "    }\n",
       "</style>\n",
       "<table border=\"1\" class=\"dataframe\">\n",
       "  <thead>\n",
       "    <tr style=\"text-align: right;\">\n",
       "      <th></th>\n",
       "      <th>name</th>\n",
       "      <th>categories</th>\n",
       "      <th>lat</th>\n",
       "      <th>lng</th>\n",
       "    </tr>\n",
       "  </thead>\n",
       "  <tbody>\n",
       "    <tr>\n",
       "      <th>0</th>\n",
       "      <td>iLoveKickboxing.com Vancouver</td>\n",
       "      <td>Boxing Gym</td>\n",
       "      <td>49.283143</td>\n",
       "      <td>-123.100976</td>\n",
       "    </tr>\n",
       "    <tr>\n",
       "      <th>1</th>\n",
       "      <td>Revolver</td>\n",
       "      <td>Coffee Shop</td>\n",
       "      <td>49.283187</td>\n",
       "      <td>-123.109288</td>\n",
       "    </tr>\n",
       "    <tr>\n",
       "      <th>2</th>\n",
       "      <td>Birds &amp; The Beets</td>\n",
       "      <td>Café</td>\n",
       "      <td>49.283556</td>\n",
       "      <td>-123.102940</td>\n",
       "    </tr>\n",
       "    <tr>\n",
       "      <th>3</th>\n",
       "      <td>Meat &amp; Bread</td>\n",
       "      <td>Sandwich Place</td>\n",
       "      <td>49.282646</td>\n",
       "      <td>-123.109499</td>\n",
       "    </tr>\n",
       "    <tr>\n",
       "      <th>4</th>\n",
       "      <td>Invoke Media</td>\n",
       "      <td>Tech Startup</td>\n",
       "      <td>49.283547</td>\n",
       "      <td>-123.104078</td>\n",
       "    </tr>\n",
       "  </tbody>\n",
       "</table>\n",
       "</div>"
      ],
      "text/plain": [
       "                            name      categories        lat         lng\n",
       "0  iLoveKickboxing.com Vancouver      Boxing Gym  49.283143 -123.100976\n",
       "1                       Revolver     Coffee Shop  49.283187 -123.109288\n",
       "2              Birds & The Beets            Café  49.283556 -123.102940\n",
       "3                   Meat & Bread  Sandwich Place  49.282646 -123.109499\n",
       "4                   Invoke Media    Tech Startup  49.283547 -123.104078"
      ]
     },
     "execution_count": 41,
     "metadata": {},
     "output_type": "execute_result"
    }
   ],
   "source": [
    "nearby_venues.head()"
   ]
  },
  {
   "cell_type": "markdown",
   "metadata": {},
   "source": [
    "The user chooses something and I produce a new dataframe with all the locations"
   ]
  },
  {
   "cell_type": "code",
   "execution_count": 49,
   "metadata": {},
   "outputs": [
    {
     "data": {
      "text/html": [
       "<div>\n",
       "<style scoped>\n",
       "    .dataframe tbody tr th:only-of-type {\n",
       "        vertical-align: middle;\n",
       "    }\n",
       "\n",
       "    .dataframe tbody tr th {\n",
       "        vertical-align: top;\n",
       "    }\n",
       "\n",
       "    .dataframe thead th {\n",
       "        text-align: right;\n",
       "    }\n",
       "</style>\n",
       "<table border=\"1\" class=\"dataframe\">\n",
       "  <thead>\n",
       "    <tr style=\"text-align: right;\">\n",
       "      <th></th>\n",
       "      <th>name</th>\n",
       "      <th>categories</th>\n",
       "      <th>lat</th>\n",
       "      <th>lng</th>\n",
       "    </tr>\n",
       "  </thead>\n",
       "  <tbody>\n",
       "    <tr>\n",
       "      <th>20</th>\n",
       "      <td>Creekside Park</td>\n",
       "      <td>Park</td>\n",
       "      <td>49.274641</td>\n",
       "      <td>-123.102701</td>\n",
       "    </tr>\n",
       "    <tr>\n",
       "      <th>38</th>\n",
       "      <td>Coal Harbour Park</td>\n",
       "      <td>Park</td>\n",
       "      <td>49.289936</td>\n",
       "      <td>-123.125002</td>\n",
       "    </tr>\n",
       "    <tr>\n",
       "      <th>40</th>\n",
       "      <td>Harbour Green Park</td>\n",
       "      <td>Park</td>\n",
       "      <td>49.290062</td>\n",
       "      <td>-123.121719</td>\n",
       "    </tr>\n",
       "    <tr>\n",
       "      <th>45</th>\n",
       "      <td>David Lam Park</td>\n",
       "      <td>Park</td>\n",
       "      <td>49.272467</td>\n",
       "      <td>-123.123866</td>\n",
       "    </tr>\n",
       "    <tr>\n",
       "      <th>63</th>\n",
       "      <td>George Wainborn Park</td>\n",
       "      <td>Park</td>\n",
       "      <td>49.272383</td>\n",
       "      <td>-123.129433</td>\n",
       "    </tr>\n",
       "  </tbody>\n",
       "</table>\n",
       "</div>"
      ],
      "text/plain": [
       "                    name categories        lat         lng\n",
       "20        Creekside Park       Park  49.274641 -123.102701\n",
       "38     Coal Harbour Park       Park  49.289936 -123.125002\n",
       "40    Harbour Green Park       Park  49.290062 -123.121719\n",
       "45        David Lam Park       Park  49.272467 -123.123866\n",
       "63  George Wainborn Park       Park  49.272383 -123.129433"
      ]
     },
     "execution_count": 49,
     "metadata": {},
     "output_type": "execute_result"
    }
   ],
   "source": [
    "desired_venue = ['Park'] # From user input\n",
    "selected_venues = nearby_venues[nearby_venues['categories'].isin(desired_venue)]\n",
    "selected_venues.head()"
   ]
  },
  {
   "cell_type": "markdown",
   "metadata": {
    "jupyter": {
     "outputs_hidden": true
    }
   },
   "source": [
    "Now that I have my selected venue, I want to calculate the distance that I am from each one. I'll be fancy and use the distance function from geopy and apply that on my original dataframe. I will also find the direction to the place."
   ]
  },
  {
   "cell_type": "code",
   "execution_count": 50,
   "metadata": {},
   "outputs": [
    {
     "name": "stderr",
     "output_type": "stream",
     "text": [
      "/home/jupyterlab/conda/envs/python/lib/python3.6/site-packages/ipykernel_launcher.py:2: SettingWithCopyWarning: \n",
      "A value is trying to be set on a copy of a slice from a DataFrame.\n",
      "Try using .loc[row_indexer,col_indexer] = value instead\n",
      "\n",
      "See the caveats in the documentation: https://pandas.pydata.org/pandas-docs/stable/user_guide/indexing.html#returning-a-view-versus-a-copy\n",
      "  \n",
      "/home/jupyterlab/conda/envs/python/lib/python3.6/site-packages/ipykernel_launcher.py:4: SettingWithCopyWarning: \n",
      "A value is trying to be set on a copy of a slice from a DataFrame.\n",
      "Try using .loc[row_indexer,col_indexer] = value instead\n",
      "\n",
      "See the caveats in the documentation: https://pandas.pydata.org/pandas-docs/stable/user_guide/indexing.html#returning-a-view-versus-a-copy\n",
      "  after removing the cwd from sys.path.\n"
     ]
    }
   ],
   "source": [
    "# Create distance column\n",
    "selected_venues['distance (m)'] = selected_venues.apply(lambda row: distance([latitude, longitude], [row['lat'], row['lng']]).m, axis=1)\n",
    "# Create direction column \n",
    "selected_venues['direction'] = selected_venues.apply(lambda row: geod.Inverse(latitude, longitude, row['lat'], row['lng'])['azi1'], axis=1)"
   ]
  },
  {
   "cell_type": "markdown",
   "metadata": {},
   "source": [
    "I can sort my venues by their distance"
   ]
  },
  {
   "cell_type": "code",
   "execution_count": 57,
   "metadata": {},
   "outputs": [
    {
     "data": {
      "text/html": [
       "<div>\n",
       "<style scoped>\n",
       "    .dataframe tbody tr th:only-of-type {\n",
       "        vertical-align: middle;\n",
       "    }\n",
       "\n",
       "    .dataframe tbody tr th {\n",
       "        vertical-align: top;\n",
       "    }\n",
       "\n",
       "    .dataframe thead th {\n",
       "        text-align: right;\n",
       "    }\n",
       "</style>\n",
       "<table border=\"1\" class=\"dataframe\">\n",
       "  <thead>\n",
       "    <tr style=\"text-align: right;\">\n",
       "      <th></th>\n",
       "      <th>name</th>\n",
       "      <th>categories</th>\n",
       "      <th>lat</th>\n",
       "      <th>lng</th>\n",
       "      <th>distance (m)</th>\n",
       "      <th>direction</th>\n",
       "    </tr>\n",
       "  </thead>\n",
       "  <tbody>\n",
       "    <tr>\n",
       "      <th>20</th>\n",
       "      <td>Creekside Park</td>\n",
       "      <td>Park</td>\n",
       "      <td>49.274641</td>\n",
       "      <td>-123.102701</td>\n",
       "      <td>949.797004</td>\n",
       "      <td>176.355356</td>\n",
       "    </tr>\n",
       "    <tr>\n",
       "      <th>40</th>\n",
       "      <td>Harbour Green Park</td>\n",
       "      <td>Park</td>\n",
       "      <td>49.290062</td>\n",
       "      <td>-123.121719</td>\n",
       "      <td>1529.553842</td>\n",
       "      <td>-59.888130</td>\n",
       "    </tr>\n",
       "    <tr>\n",
       "      <th>38</th>\n",
       "      <td>Coal Harbour Park</td>\n",
       "      <td>Park</td>\n",
       "      <td>49.289936</td>\n",
       "      <td>-123.125002</td>\n",
       "      <td>1734.179263</td>\n",
       "      <td>-64.249632</td>\n",
       "    </tr>\n",
       "    <tr>\n",
       "      <th>45</th>\n",
       "      <td>David Lam Park</td>\n",
       "      <td>Park</td>\n",
       "      <td>49.272467</td>\n",
       "      <td>-123.123866</td>\n",
       "      <td>1898.600137</td>\n",
       "      <td>-128.793281</td>\n",
       "    </tr>\n",
       "    <tr>\n",
       "      <th>63</th>\n",
       "      <td>George Wainborn Park</td>\n",
       "      <td>Park</td>\n",
       "      <td>49.272383</td>\n",
       "      <td>-123.129433</td>\n",
       "      <td>2233.822078</td>\n",
       "      <td>-122.452775</td>\n",
       "    </tr>\n",
       "    <tr>\n",
       "      <th>74</th>\n",
       "      <td>Charleson Park</td>\n",
       "      <td>Park</td>\n",
       "      <td>49.266880</td>\n",
       "      <td>-123.124681</td>\n",
       "      <td>2376.580273</td>\n",
       "      <td>-139.632874</td>\n",
       "    </tr>\n",
       "    <tr>\n",
       "      <th>95</th>\n",
       "      <td>Vanier Park</td>\n",
       "      <td>Park</td>\n",
       "      <td>49.275813</td>\n",
       "      <td>-123.142147</td>\n",
       "      <td>2926.290369</td>\n",
       "      <td>-106.208376</td>\n",
       "    </tr>\n",
       "  </tbody>\n",
       "</table>\n",
       "</div>"
      ],
      "text/plain": [
       "                    name categories        lat         lng  distance (m)  \\\n",
       "20        Creekside Park       Park  49.274641 -123.102701    949.797004   \n",
       "40    Harbour Green Park       Park  49.290062 -123.121719   1529.553842   \n",
       "38     Coal Harbour Park       Park  49.289936 -123.125002   1734.179263   \n",
       "45        David Lam Park       Park  49.272467 -123.123866   1898.600137   \n",
       "63  George Wainborn Park       Park  49.272383 -123.129433   2233.822078   \n",
       "74        Charleson Park       Park  49.266880 -123.124681   2376.580273   \n",
       "95           Vanier Park       Park  49.275813 -123.142147   2926.290369   \n",
       "\n",
       "     direction  \n",
       "20  176.355356  \n",
       "40  -59.888130  \n",
       "38  -64.249632  \n",
       "45 -128.793281  \n",
       "63 -122.452775  \n",
       "74 -139.632874  \n",
       "95 -106.208376  "
      ]
     },
     "execution_count": 57,
     "metadata": {},
     "output_type": "execute_result"
    }
   ],
   "source": [
    "selected_venues.sort_values(['distance (m)'])"
   ]
  },
  {
   "cell_type": "markdown",
   "metadata": {},
   "source": [
    "Now I want to plot each of the locations on a map. I will use the distance and directions that I calculated in order to plot arrows showing the direction, and lines showing the straight-line path to the location. This will serve as the solution to the student who is learning orienteering."
   ]
  },
  {
   "cell_type": "code",
   "execution_count": 58,
   "metadata": {},
   "outputs": [
    {
     "data": {
      "text/html": [
       "<div style=\"width:100%;\"><div style=\"position:relative;width:100%;height:0;padding-bottom:60%;\"><iframe src=\"about:blank\" style=\"position:absolute;width:100%;height:100%;left:0;top:0;border:none !important;\" data-html=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 onload=\"this.contentDocument.open();this.contentDocument.write(atob(this.getAttribute('data-html')));this.contentDocument.close();\" allowfullscreen webkitallowfullscreen mozallowfullscreen></iframe></div></div>"
      ],
      "text/plain": [
       "<folium.folium.Map at 0x7f485719bef0>"
      ]
     },
     "execution_count": 58,
     "metadata": {},
     "output_type": "execute_result"
    }
   ],
   "source": [
    "map = folium.Map(location=[latitude, longitude], zoom_start=14)\n",
    "\n",
    "# add markers to map\n",
    "for lat, lng, label, angle in zip(selected_venues['lat'], selected_venues['lng'], selected_venues['name'], selected_venues['direction']):\n",
    "    label = folium.Popup(label, parse_html=True)\n",
    "    points = ([latitude, longitude], [lat, lng])\n",
    "    folium.RegularPolygonMarker( # marks venues\n",
    "        [lat, lng], \n",
    "        fill_color='blue',\n",
    "        popup=label,\n",
    "        number_of_sides=3, \n",
    "        radius=6, \n",
    "        rotation=angle-90).add_to(map)\n",
    "    folium.CircleMarker( # marks origin\n",
    "        [latitude, longitude],\n",
    "        radius=2,\n",
    "        popup='origin',\n",
    "        color='red',\n",
    "        fill=True,\n",
    "        fill_color='#3186cc',\n",
    "        fill_opacity=0.7,\n",
    "        parse_html=False).add_to(map) \n",
    "    folium.PolyLine( # connects origin to venues\n",
    "        points, \n",
    "        color=\"blue\", \n",
    "        weight=2.5, \n",
    "        opacity=0.5).add_to(map)\n",
    "map"
   ]
  },
  {
   "cell_type": "code",
   "execution_count": 48,
   "metadata": {
    "jupyter": {
     "source_hidden": true
    }
   },
   "outputs": [],
   "source": [
    "# for lat, lng, label, angle in zip(selected_venues['lat'], selected_venues['lng'], selected_venues['name']):\n",
    "#     closeup = folium.Map(location=[lat, lng], zoom_start=17)\n",
    "#     img_name = 'images/{}'.format(label)\n",
    "#     label = folium.Popup(label, parse_html=True)\n",
    "#     folium.CircleMarker(\n",
    "#         [lat, lng],\n",
    "#         radius=5,\n",
    "#         popup=label,\n",
    "#         color='blue',\n",
    "#         fill=True,\n",
    "#         fill_color='#3186cc',\n",
    "#         fill_opacity=0.7,\n",
    "#         parse_html=False).add_to(closeup)  \n",
    "#     closeup.save(img_name)\n",
    "\n",
    "    \n",
    "# # closeup"
   ]
  }
 ],
 "metadata": {
  "kernelspec": {
   "display_name": "Python",
   "language": "python",
   "name": "conda-env-python-py"
  },
  "language_info": {
   "codemirror_mode": {
    "name": "ipython",
    "version": 3
   },
   "file_extension": ".py",
   "mimetype": "text/x-python",
   "name": "python",
   "nbconvert_exporter": "python",
   "pygments_lexer": "ipython3",
   "version": "3.6.10"
  }
 },
 "nbformat": 4,
 "nbformat_minor": 4
}
