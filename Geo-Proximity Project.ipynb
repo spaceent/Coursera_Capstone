{
 "cells": [
  {
   "cell_type": "markdown",
   "metadata": {},
   "source": [
    "# Creating Customized Flash Cards Using Geo-Location Data"
   ]
  },
  {
   "cell_type": "markdown",
   "metadata": {},
   "source": [
    "## INTRODUCTION/BUSINESS PROBLEM"
   ]
  },
  {
   "cell_type": "markdown",
   "metadata": {},
   "source": [
    "    One of my favorite programs is a flashcard app called Anki. It helps me to memorize new information when I study a new language or science topic. It's very efficient at creating strong memories because it has a built-in, research based algorithm which optimizes the time between reviews.\n",
    "    I've also used Anki to study geography to pretty good effect. It helped me to learn the locations of all the countries in Europe. After this experience I found myself wanting something more customizable: what if I could create a program which would create Anki decks which would help me to learn about what's around me?\n",
    "    I've moved a lot in life, and every time I get to a new place there is a good amount of time before I can feel my bearings. By getting to know the area better (the venues) I can feel more comfortable. The faster I can know this information, the sooner I can feel at home.\n",
    "    I want to use foursquare to generate nearby venues given a few paramaters, like location, radius, and venue type, and then create an ordered anki deck from this information. This will help me to get to know my new city better, faster. The audience for this product would be anybody new to a city hoping to learn about what's around them.\n",
    "    A user would start by specifying their location, desired venues, desired number of cards, and desired attributes. The program would then make a call to Foursquare to find nearby venues, sort them by their type, popularity, or other attribute, and then pass this to a function which would format the dataframe to something able to be imported into Anki. \n",
    "    1) User input: location, desired venue type, desired attributes, no. cards to generate\n",
    "    2) Call to foursquare\n",
    "    3) Format foursquare data for Anki"
   ]
  },
  {
   "cell_type": "markdown",
   "metadata": {},
   "source": [
    "## DATA REQUIREMENTS"
   ]
  },
  {
   "cell_type": "markdown",
   "metadata": {},
   "source": [
    "1) User inputs: location, desired venue type, desired attributes, no. cards to generate \n",
    "\n",
    "The user will start by passing in the name of their location to Nominatim, which will generate the location's latitutde/longitude:\n",
    "```python\n",
    "address = 'Toronto, Canada'\n",
    "geolocator = Nominatim(user_agent=\"toronto_explorer\")\n",
    "location = geolocator.geocode(address)\n",
    "latitude = location.latitude\n",
    "longitude = location.longitude\n",
    "```\n",
    "\n",
    "This information can then be used to generate a map of the area using folium:\n",
    "\n",
    "```python\n",
    "map = folium.Map(location=[latitude, longitude], zoom_start=11)\n",
    "```\n",
    "\n",
    "And then passed to Foursquare's API to get a json file:\n",
    "\n",
    "```python\n",
    "LIMIT = 100\n",
    "radius = 500\n",
    "url = 'https://api.foursquare.com/v2/venues/explore?&client_id={}&client_secret={}&v={}&ll={},{}&radius={}&limit={}'.format(\n",
    "    CLIENT_ID, \n",
    "    CLIENT_SECRET, \n",
    "    VERSION, \n",
    "    neighborhood_latitude, \n",
    "    neighborhood_longitude, \n",
    "    radius, \n",
    "    LIMIT)\n",
    "\n",
    "results = requests.get(url).json()\n",
    "```\n",
    "\n",
    "2) Foursquare location data\n",
    "\n",
    "This data needs to be cleaned and formatted into a pandas dataframe based on the specified attributes given by the user. Once this is done the information can be formatted into something proper to import into Anki"
   ]
  },
  {
   "cell_type": "code",
   "execution_count": null,
   "metadata": {},
   "outputs": [],
   "source": []
  }
 ],
 "metadata": {
  "kernelspec": {
   "display_name": "Python",
   "language": "python",
   "name": "conda-env-python-py"
  },
  "language_info": {
   "codemirror_mode": {
    "name": "ipython",
    "version": 3
   },
   "file_extension": ".py",
   "mimetype": "text/x-python",
   "name": "python",
   "nbconvert_exporter": "python",
   "pygments_lexer": "ipython3",
   "version": "3.6.10"
  }
 },
 "nbformat": 4,
 "nbformat_minor": 4
}
